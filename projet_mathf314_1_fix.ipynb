{
 "cells": [
  {
   "cell_type": "code",
   "execution_count": 1,
   "metadata": {},
   "outputs": [],
   "source": [
    "def multirk4(t0,f1,f2,f3,f4,theta10,theta20,ptheta10,ptheta20,h,stop):\n",
    "    t=t0\n",
    "    theta1=theta10\n",
    "    theta2=theta20\n",
    "    ptheta1=ptheta10\n",
    "    ptheta2=ptheta20\n",
    "    f=[]\n",
    "    ltheta1=[]\n",
    "    ltheta2=[]\n",
    "    lptheta1=[]\n",
    "    lptheta2=[]\n",
    "    f.append(f1)\n",
    "    f.append(f2)\n",
    "    f.append(f3)\n",
    "    f.append(f4)\n",
    "    while t<=stop:\n",
    "        k1=[]\n",
    "        k2=[]\n",
    "        k3=[]\n",
    "        k4=[]\n",
    "        i=0\n",
    "        j=0\n",
    "        k=0\n",
    "        n=0\n",
    "        while i<=3:\n",
    "            k1i=f[i](theta1,theta2,ptheta1,ptheta2)\n",
    "            k1.append(k1i)\n",
    "            i=i+1\n",
    "        while j<=3:\n",
    "            k2j=f[j](theta1+h*k1[0]/2,theta2+h*k1[1]/2,ptheta1+h*k1[2]/2,ptheta2+h*k1[3]/2)\n",
    "            k2.append(k2j)\n",
    "            j=j+1\n",
    "        while k<=3:\n",
    "            k3k=f[k](theta1+h*k2[0]/2,theta2+h*k2[1]/2,ptheta1+h*k2[2]/2,ptheta2+h*k2[3]/2)\n",
    "            k3.append(k3k)\n",
    "            k=k+1\n",
    "        while n<=3:\n",
    "            k4n=f[n](theta1+h*k3[0],theta2+h*k3[1],ptheta1+h*k3[2],ptheta2+h*k3[3])\n",
    "            k4.append(k4n)\n",
    "            n=n+1\n",
    "        theta1=theta1+(h/6)*(k1[0]+2*k2[0]+2*k3[0]+k4[0])\n",
    "        theta2=theta2+(h/6)*(k1[1]+2*k2[1]+2*k3[1]+k4[1])\n",
    "        ptheta1=ptheta1+(h/6)*(k1[2]+2*k2[2]+2*k3[2]+k4[2])\n",
    "        ptheta2=ptheta2+(h/6)*(k1[3]+2*k2[3]+2*k3[3]+k4[3])\n",
    "        t=t+h\n",
    "        \n",
    "        \n",
    "        ltheta1.append(theta1)\n",
    "        ltheta2.append(theta2)\n",
    "        lptheta1.append(ptheta1)\n",
    "        lptheta2.append(ptheta2)\n",
    "    print (ltheta1,ltheta2,lptheta1,lptheta2)"
   ]
  },
  {
   "cell_type": "code",
   "execution_count": 3,
   "metadata": {},
   "outputs": [],
   "source": [
    "import math\n",
    "dtheta1= lambda theta1, theta2, ptheta1, ptheta2: (6/(m*l**2))*((2*ptheta1-3*math.cos(theta1-theta2)*ptheta2)/(16-9*(math.cos(theta1-theta2))**2))\n",
    "dtheta2= lambda theta1, theta2, ptheta1, ptheta2: (6/(m*l**2))*((8*ptheta2-3*math.cos(theta1-theta2)*ptheta1)/(16-9*(math.cos(theta1-theta2))**2))\n",
    "dptheta1= lambda theta1, theta2, ptheta1, ptheta2: (-1/2)*m*(l**2)*((6/(m*l**2))*((2*ptheta1-3*math.cos(theta1-theta2)*ptheta2)/(16-9*(math.cos(theta1-theta2))**2))*(6/(m*l**2))*((8*ptheta2-3*math.cos(theta1-theta2)*ptheta1)/(16-9*(math.cos(theta1-theta2))**2))*math.sin(theta1-theta2)+3*(g/l)*math.sin(theta1))\n",
    "dptheta2= lambda theta1, theta2, ptheta1, ptheta2:(1/2)*m*(l**2)*((6/(m*l**2))*((2*ptheta1-3*math.cos(theta1-theta2)*ptheta2)/(16-9*(math.cos(theta1-theta2))**2))*(6/(m*l**2))*((8*ptheta2-3*math.cos(theta1-theta2)*ptheta1)/(16-9*(math.cos(theta1-theta2))**2))*math.sin(theta1-theta2)+(g/l)*math.sin(theta2))"
   ]
  },
  {
   "cell_type": "code",
   "execution_count": 2,
   "metadata": {},
   "outputs": [],
   "source": [
    "m=1\n",
    "l=1\n",
    "g=-9.81\n",
    "dt=0.001"
   ]
  },
  {
   "cell_type": "code",
   "execution_count": 16,
   "metadata": {
    "scrolled": true
   },
   "outputs": [
    {
     "name": "stdout",
     "output_type": "stream",
     "text": [
      "[1.5708152460805827, 1.5708720039366078, 1.570966600353672, 1.571099035295609, 1.5712693086683862, 1.571477420276707] [1.5707605903663808, 1.5706533810828065, 1.5704746989619316, 1.570224544072814, 1.5699029165950047, 1.5695098169014146] [0.014715000014738758, 0.029430000457114046, 0.04414500346530763, 0.05886001459858326, 0.07357504454778607, 0.0882901108457349] [-0.004905000014614128, -0.009810000453873605, -0.0147150034410043, -0.019620014496384657, -0.02452504423608046, -0.02943011007027286]\n"
     ]
    }
   ],
   "source": [
    "multirk4(0,dtheta1,dtheta2,dptheta1,dptheta2,math.pi/2,math.pi/2,0,0,dt,0.005)"
   ]
  },
  {
   "cell_type": "code",
   "execution_count": 5,
   "metadata": {},
   "outputs": [
    {
     "ename": "SyntaxError",
     "evalue": "invalid syntax (<ipython-input-5-37622a793ca5>, line 7)",
     "output_type": "error",
     "traceback": [
      "\u001b[1;36m  File \u001b[1;32m\"<ipython-input-5-37622a793ca5>\"\u001b[1;36m, line \u001b[1;32m7\u001b[0m\n\u001b[1;33m    theta1=\u001b[0m\n\u001b[1;37m           ^\u001b[0m\n\u001b[1;31mSyntaxError\u001b[0m\u001b[1;31m:\u001b[0m invalid syntax\n"
     ]
    }
   ],
   "source": [
    "from numpy import sin, cos\n",
    "import numpy as np\n",
    "outputpositionx1=[]\n",
    "outputpositiony1=[]\n",
    "outputpositionx2=[]\n",
    "outputpositiony2=[]\n",
    "theta1=\n",
    "theta2=\n",
    "\n",
    "i=0\n",
    "while i < len(theta1) :\n",
    "    t1=theta1[i]\n",
    "    t2=theta2[i]\n",
    "    x1=np.sin(t1)\n",
    "    y1=np.cos(t1)\n",
    "    x2=np.sin(t2)\n",
    "    y2=np.cos(t2)\n",
    "    outputpositionx1.append(x1)\n",
    "    outputpositiony1.append(y1)\n",
    "    outputpositionx2.append(x2)\n",
    "    outputpositiony2.append(y2)\n",
    "    i=i+1\n",
    "print(outputpositionx1,outputpositionx2,outputpositiony1,outputpositiony2)    "
   ]
  },
  {
   "cell_type": "code",
   "execution_count": 6,
   "metadata": {},
   "outputs": [],
   "source": [
    "def enhancedmultirk4(t0,f1,f2,f3,f4,theta10,theta20,ptheta10,ptheta20,h,stop):\n",
    "    t=t0\n",
    "    theta1=theta10\n",
    "    theta2=theta20\n",
    "    ptheta1=ptheta10\n",
    "    ptheta2=ptheta20\n",
    "    f=[]\n",
    "    ltheta1=[]\n",
    "    ltheta2=[]\n",
    "    lptheta1=[]\n",
    "    lptheta2=[]\n",
    "    f.append(f1)\n",
    "    f.append(f2)\n",
    "    f.append(f3)\n",
    "    f.append(f4)\n",
    "    outputpositionx1=[]\n",
    "    outputpositiony1=[]\n",
    "    outputpositionx2=[]\n",
    "    outputpositiony2=[]\n",
    "    w=0\n",
    "    while t<=stop:\n",
    "        k1=[]\n",
    "        k2=[]\n",
    "        k3=[]\n",
    "        k4=[]\n",
    "        i=0\n",
    "        j=0\n",
    "        k=0\n",
    "        n=0\n",
    "        while i<=3:\n",
    "            k1i=f[i](theta1,theta2,ptheta1,ptheta2)\n",
    "            k1.append(k1i)\n",
    "            i=i+1\n",
    "        while j<=3:\n",
    "            k2j=f[j](theta1+h*k1[0]/2,theta2+h*k1[1]/2,ptheta1+h*k1[2]/2,ptheta2+h*k1[3]/2)\n",
    "            k2.append(k2j)\n",
    "            j=j+1\n",
    "        while k<=3:\n",
    "            k3k=f[k](theta1+h*k2[0]/2,theta2+h*k2[1]/2,ptheta1+h*k2[2]/2,ptheta2+h*k2[3]/2)\n",
    "            k3.append(k3k)\n",
    "            k=k+1\n",
    "        while n<=3:\n",
    "            k4n=f[n](theta1+h*k3[0],theta2+h*k3[1],ptheta1+h*k3[2],ptheta2+h*k3[3])\n",
    "            k4.append(k4n)\n",
    "            n=n+1\n",
    "        theta1=theta1+(h/6)*(k1[0]+2*k2[0]+2*k3[0]+k4[0])\n",
    "        theta2=theta2+(h/6)*(k1[1]+2*k2[1]+2*k3[1]+k4[1])\n",
    "        ptheta1=ptheta1+(h/6)*(k1[2]+2*k2[2]+2*k3[2]+k4[2])\n",
    "        ptheta2=ptheta2+(h/6)*(k1[3]+2*k2[3]+2*k3[3]+k4[3])\n",
    "        t=t+h\n",
    "        \n",
    "        x1=np.sin(theta1)\n",
    "        y1=np.cos(theta1)\n",
    "        x2=np.sin(theta2)\n",
    "        truex2=x2+x1\n",
    "        y2=np.cos(theta2)\n",
    "        truey2=y2+y1\n",
    "        outputpositionx1.append(x1)\n",
    "        outputpositiony1.append(y1)\n",
    "        outputpositionx2.append(truex2)\n",
    "        outputpositiony2.append(truey2)\n",
    "        \n",
    "    return(outputpositionx1,outputpositionx2,outputpositiony1,outputpositiony2)        "
   ]
  },
  {
   "cell_type": "code",
   "execution_count": 7,
   "metadata": {},
   "outputs": [
    {
     "ename": "NameError",
     "evalue": "name 'np' is not defined",
     "output_type": "error",
     "traceback": [
      "\u001b[1;31m---------------------------------------------------------------------------\u001b[0m",
      "\u001b[1;31mNameError\u001b[0m                                 Traceback (most recent call last)",
      "\u001b[1;32m<ipython-input-7-ea59469dffe3>\u001b[0m in \u001b[0;36m<module>\u001b[1;34m()\u001b[0m\n\u001b[1;32m----> 1\u001b[1;33m \u001b[0menhancedmultirk4\u001b[0m\u001b[1;33m(\u001b[0m\u001b[1;36m0\u001b[0m\u001b[1;33m,\u001b[0m\u001b[0mdtheta1\u001b[0m\u001b[1;33m,\u001b[0m\u001b[0mdtheta2\u001b[0m\u001b[1;33m,\u001b[0m\u001b[0mdptheta1\u001b[0m\u001b[1;33m,\u001b[0m\u001b[0mdptheta2\u001b[0m\u001b[1;33m,\u001b[0m\u001b[0mmath\u001b[0m\u001b[1;33m.\u001b[0m\u001b[0mpi\u001b[0m\u001b[1;33m/\u001b[0m\u001b[1;36m2\u001b[0m\u001b[1;33m,\u001b[0m\u001b[0mmath\u001b[0m\u001b[1;33m.\u001b[0m\u001b[0mpi\u001b[0m\u001b[1;33m/\u001b[0m\u001b[1;36m2\u001b[0m\u001b[1;33m,\u001b[0m\u001b[1;36m0\u001b[0m\u001b[1;33m,\u001b[0m\u001b[1;36m0\u001b[0m\u001b[1;33m,\u001b[0m\u001b[0mdt\u001b[0m\u001b[1;33m,\u001b[0m\u001b[1;36m20\u001b[0m\u001b[1;33m)\u001b[0m\u001b[1;33m\u001b[0m\u001b[0m\n\u001b[0m",
      "\u001b[1;32m<ipython-input-6-fcc77a668efe>\u001b[0m in \u001b[0;36menhancedmultirk4\u001b[1;34m(t0, f1, f2, f3, f4, theta10, theta20, ptheta10, ptheta20, h, stop)\u001b[0m\n\u001b[0;32m     50\u001b[0m         \u001b[0mt\u001b[0m\u001b[1;33m=\u001b[0m\u001b[0mt\u001b[0m\u001b[1;33m+\u001b[0m\u001b[0mh\u001b[0m\u001b[1;33m\u001b[0m\u001b[0m\n\u001b[0;32m     51\u001b[0m \u001b[1;33m\u001b[0m\u001b[0m\n\u001b[1;32m---> 52\u001b[1;33m         \u001b[0mx1\u001b[0m\u001b[1;33m=\u001b[0m\u001b[0mnp\u001b[0m\u001b[1;33m.\u001b[0m\u001b[0msin\u001b[0m\u001b[1;33m(\u001b[0m\u001b[0mtheta1\u001b[0m\u001b[1;33m)\u001b[0m\u001b[1;33m\u001b[0m\u001b[0m\n\u001b[0m\u001b[0;32m     53\u001b[0m         \u001b[0my1\u001b[0m\u001b[1;33m=\u001b[0m\u001b[0mnp\u001b[0m\u001b[1;33m.\u001b[0m\u001b[0mcos\u001b[0m\u001b[1;33m(\u001b[0m\u001b[0mtheta1\u001b[0m\u001b[1;33m)\u001b[0m\u001b[1;33m\u001b[0m\u001b[0m\n\u001b[0;32m     54\u001b[0m         \u001b[0mx2\u001b[0m\u001b[1;33m=\u001b[0m\u001b[0mnp\u001b[0m\u001b[1;33m.\u001b[0m\u001b[0msin\u001b[0m\u001b[1;33m(\u001b[0m\u001b[0mtheta2\u001b[0m\u001b[1;33m)\u001b[0m\u001b[1;33m\u001b[0m\u001b[0m\n",
      "\u001b[1;31mNameError\u001b[0m: name 'np' is not defined"
     ]
    }
   ],
   "source": [
    "enhancedmultirk4(0,dtheta1,dtheta2,dptheta1,dptheta2,math.pi/2,math.pi/2,0,0,dt,20)"
   ]
  },
  {
   "cell_type": "code",
   "execution_count": 7,
   "metadata": {},
   "outputs": [
    {
     "name": "stdout",
     "output_type": "stream",
     "text": [
      "Using matplotlib backend: Qt5Agg\n"
     ]
    }
   ],
   "source": [
    "%matplotlib"
   ]
  },
  {
   "cell_type": "code",
   "execution_count": 8,
   "metadata": {
    "scrolled": true
   },
   "outputs": [
    {
     "data": {
      "text/plain": [
       "(<function __main__.<lambda>(theta1, theta2, ptheta1, ptheta2)>,\n",
       " <function __main__.<lambda>(theta1, theta2, ptheta1, ptheta2)>,\n",
       " <function __main__.<lambda>(theta1, theta2, ptheta1, ptheta2)>,\n",
       " <function __main__.<lambda>(theta1, theta2, ptheta1, ptheta2)>)"
      ]
     },
     "execution_count": 8,
     "metadata": {},
     "output_type": "execute_result"
    }
   ],
   "source": [
    "from numpy import sin, cos\n",
    "import numpy as np\n",
    "import matplotlib.pyplot as pyplot\n",
    "import matplotlib.animation as animation\n",
    "dtheta1,dtheta2,dptheta1,dptheta2"
   ]
  },
  {
   "cell_type": "code",
   "execution_count": 3,
   "metadata": {},
   "outputs": [
    {
     "name": "stdout",
     "output_type": "stream",
     "text": [
      "Using matplotlib backend: Qt5Agg\n"
     ]
    }
   ],
   "source": [
    "%matplotlib"
   ]
  },
  {
   "cell_type": "code",
   "execution_count": 11,
   "metadata": {},
   "outputs": [],
   "source": [
    "import math\n",
    "dtheta1= lambda theta1, theta2, ptheta1, ptheta2: (6/(m*l**2))*((2*ptheta1-3*math.cos(theta1-theta2)*ptheta2)/(16-9*(math.cos(theta1-theta2))**2))\n",
    "dtheta2= lambda theta1, theta2, ptheta1, ptheta2: (6/(m*l**2))*((8*ptheta2-3*math.cos(theta1-theta2)*ptheta1)/(16-9*(math.cos(theta1-theta2))**2))\n",
    "dptheta1= lambda theta1, theta2, ptheta1, ptheta2: (-1/2)*m*(l**2)*((6/(m*l**2))*((2*ptheta1-3*math.cos(theta1-theta2)*ptheta2)/(16-9*(math.cos(theta1-theta2))**2))*(6/(m*l**2))*((8*ptheta2-3*math.cos(theta1-theta2)*ptheta1)/(16-9*(math.cos(theta1-theta2))**2))*math.sin(theta1-theta2)+3*(g/l)*math.sin(theta1))\n",
    "dptheta2= lambda theta1, theta2, ptheta1, ptheta2:(1/2)*m*(l**2)*((6/(m*l**2))*((2*ptheta1-3*math.cos(theta1-theta2)*ptheta2)/(16-9*(math.cos(theta1-theta2))**2))*(6/(m*l**2))*((8*ptheta2-3*math.cos(theta1-theta2)*ptheta1)/(16-9*(math.cos(theta1-theta2))**2))*math.sin(theta1-theta2)+(g/l)*math.sin(theta2))\n"
   ]
  },
  {
   "cell_type": "code",
   "execution_count": 6,
   "metadata": {},
   "outputs": [],
   "source": [
    "import numpy as np\n",
    "import matplotlib.pyplot as plt\n",
    "import matplotlib.animation as animation\n",
    "import math\n",
    "dtheta1= lambda theta1,theta2, ptheta1, ptheta2: (6/(m*l**2))*((2*ptheta1-3*np.cos(theta1-theta2)*ptheta2)/(16-9*(np.cos(theta1-theta2))**2))\n",
    "dtheta2= lambda theta1, theta2, ptheta1, ptheta2: (6/(m*l**2))*((8*ptheta2-3*np.cos(theta1-theta2)*ptheta1)/(16-9*(np.cos(theta1-theta2))**2))\n",
    "dptheta1= lambda theta1, theta2, ptheta1, ptheta2: (-1/2)*m*(l**2)*((6/(m*l**2))*((2*ptheta1-3*np.cos(theta1-theta2)*ptheta2)/(16-9*(np.cos(theta1-theta2))**2))*(6/(m*l**2))*((8*ptheta2-3*np.cos(theta1-theta2)*ptheta1)/(16-9*(np.cos(theta1-theta2))**2))*np.sin(theta1-theta2)+3*(g/l)*np.sin(theta1))\n",
    "dptheta2= lambda theta1, theta2, ptheta1, ptheta2:(1/2)*m*(l**2)*((6/(m*l**2))*((2*ptheta1-3*np.cos(theta1-theta2)*ptheta2)/(16-9*(np.cos(theta1-theta2))**2))*(6/(m*l**2))*((8*ptheta2-3*np.cos(theta1-theta2)*ptheta1)/(16-9*(np.cos(theta1-theta2))**2))*np.sin(theta1-theta2)+(g/l)*np.sin(theta2))\n",
    "\n",
    "t=0\n",
    "theta1=math.pi/2\n",
    "theta2=math.pi/2\n",
    "ptheta1=0\n",
    "ptheta2=0\n",
    "f1=dtheta1\n",
    "f2=dtheta2\n",
    "f3=dptheta1\n",
    "f4=dptheta2\n",
    "stop=100\n",
    "h=0.01\n",
    "f=[]\n",
    "ltheta1=[]\n",
    "ltheta2=[]\n",
    "lptheta1=[]\n",
    "lptheta2=[]\n",
    "f.append(f1)\n",
    "f.append(f2)\n",
    "f.append(f3)\n",
    "f.append(f4)\n",
    "outputpositionx1=[]\n",
    "outputpositiony1=[]\n",
    "outputpositionx2=[]\n",
    "outputpositiony2=[]\n",
    "w=0\n",
    "while t<=stop:\n",
    "    k1=[]\n",
    "    k2=[]\n",
    "    k3=[]\n",
    "    k4=[]\n",
    "    i=0\n",
    "    j=0\n",
    "    k=0\n",
    "    n=0\n",
    "    while i<=3:\n",
    "        k1i=f[i](theta1,theta2,ptheta1,ptheta2)\n",
    "        k1.append(k1i)\n",
    "        i=i+1\n",
    "    while j<=3:\n",
    "        k2j=f[j](theta1+h*k1[0]/2,theta2+h*k1[1]/2,ptheta1+h*k1[2]/2,ptheta2+h*k1[3]/2)\n",
    "        k2.append(k2j)\n",
    "        j=j+1\n",
    "    while k<=3:\n",
    "        k3k=f[k](theta1+h*k2[0]/2,theta2+h*k2[1]/2,ptheta1+h*k2[2]/2,ptheta2+h*k2[3]/2)\n",
    "        k3.append(k3k)\n",
    "        k=k+1\n",
    "    while n<=3:\n",
    "        k4n=f[n](theta1+h*k3[0],theta2+h*k3[1],ptheta1+h*k3[2],ptheta2+h*k3[3])\n",
    "        k4.append(k4n)\n",
    "        n=n+1\n",
    "    theta1=theta1+(h/6)*(k1[0]+2*k2[0]+2*k3[0]+k4[0])\n",
    "    theta2=theta2+(h/6)*(k1[1]+2*k2[1]+2*k3[1]+k4[1])\n",
    "    ptheta1=ptheta1+(h/6)*(k1[2]+2*k2[2]+2*k3[2]+k4[2])\n",
    "    ptheta2=ptheta2+(h/6)*(k1[3]+2*k2[3]+2*k3[3]+k4[3])\n",
    "    t=t+h\n",
    "        \n",
    "    x1=np.sin(theta1)\n",
    "    y1=np.cos(theta1)\n",
    "    x2=np.sin(theta2)\n",
    "    truex2=x2+x1\n",
    "    y2=np.cos(theta2)\n",
    "    truey2=y2+y1\n",
    "    outputpositionx1.append(x1)\n",
    "    outputpositiony1.append(y1)\n",
    "    outputpositionx2.append(truex2)\n",
    "    outputpositiony2.append(truey2)\n",
    "        \n",
    "\n",
    "fig = plt.figure()\n",
    "ax = plt.axes(xlim=(-2, 2), ylim=(-2, 2))\n",
    "line, = ax.plot([], [], lw=2) \n",
    "'what do ?'\n",
    "\n",
    "def init():\n",
    "    line.set_data([], [])\n",
    "    return line\n",
    "'what do'\n",
    "\n",
    "def anime(i):\n",
    "    x= [0,outputpositionx1[i],outputpositionx2[i]]\n",
    "    y= [0,outputpositiony1[i],outputpositiony2[i]]\n",
    "    \n",
    "    line.set_data(x,y)\n",
    "    return line\n",
    "    \n",
    "anim = animation.FuncAnimation(fig, anime, init_func=init, frames=5000, interval=100)\n",
    "plt.show()"
   ]
  },
  {
   "cell_type": "code",
   "execution_count": null,
   "metadata": {},
   "outputs": [],
   "source": []
  }
 ],
 "metadata": {
  "kernelspec": {
   "display_name": "Python 3",
   "language": "python",
   "name": "python3"
  },
  "language_info": {
   "codemirror_mode": {
    "name": "ipython",
    "version": 3
   },
   "file_extension": ".py",
   "mimetype": "text/x-python",
   "name": "python",
   "nbconvert_exporter": "python",
   "pygments_lexer": "ipython3",
   "version": "3.7.0"
  }
 },
 "nbformat": 4,
 "nbformat_minor": 2
}

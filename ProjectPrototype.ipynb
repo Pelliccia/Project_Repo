{
 "cells": [
  {
   "cell_type": "code",
   "execution_count": 1,
   "metadata": {},
   "outputs": [],
   "source": [
    "import numpy as np\n",
    "\n",
    "def first_rk4(f, y0, t0, stop, h):\n",
    "    # solve y' = f(t, y), y(t0) = y0\n",
    "    y = y0\n",
    "    t = t0\n",
    "    print('t0', t, 'y0', y)\n",
    "    for i in range(int((stop - t0)/h)):\n",
    "        k1 = f(t, y)\n",
    "        k2 = f(t + h/2, y + h/2 * k1)\n",
    "        k3 = f(t + h/2, y + h/2 * k2)\n",
    "        k4 = f(t + h, y + h * k3)\n",
    "        print('k1', k1)\n",
    "        print('k2', k2)\n",
    "        print('k3', k3)\n",
    "        print('k4', k4)\n",
    "        y += h/6 * (k1 + 2*k2 + 2*k3 + k4)\n",
    "        t += h\n",
    "        print('t', t, 'y', y)"
   ]
  },
  {
   "cell_type": "code",
   "execution_count": 2,
   "metadata": {},
   "outputs": [],
   "source": [
    "def second_rk4(f, y0, dy0, t0, stop, h):\n",
    "    # solve y'' = f(t, y, y'), y(t0) = y0, y'(t0) = y0', step = h\n",
    "    y = y0\n",
    "    dy = dy0\n",
    "    t = t0\n",
    "    print('t0=', t, 'y0=', y, 'dy0=', dy)\n",
    "    for i in range(int((stop - t0)/h)):\n",
    "        k1 = f(t, y, dy)\n",
    "        k2 = f(t + h/2, y + h/2 * dy, dy + h/2 * k1)\n",
    "        k3 = f(t + h/2, y + h/2 * dy + h**2/4 * k1, dy + h/2 * k2)\n",
    "        k4 = f(t + h, y + h * dy + h**2/2 * k2, dy + h * k3)\n",
    "        print('k1=', k1)\n",
    "        print('k2=', k2)\n",
    "        print('k3=', k3)\n",
    "        print('k4=', k4)\n",
    "        y += h * dy + h**2/6 * (k1 + k2 + k3)\n",
    "        dy += h/6 * (k1 + 2*k2 + 2*k3 + k4)\n",
    "        t += h\n",
    "        print('t=', t, 'y=', y, 'dy=', dy)"
   ]
  },
  {
   "cell_type": "code",
   "execution_count": null,
   "metadata": {},
   "outputs": [],
   "source": [
    "m=1\n",
    "l=1\n",
    "g=9.81\n",
    "dt=0.001"
   ]
  },
  {
   "cell_type": "code",
   "execution_count": 3,
   "metadata": {},
   "outputs": [],
   "source": [
    "def newrk4(f,y0,t0,stop,h):\n",
    "    y=y0\n",
    "    t=t0\n",
    "    print ('t',t0,'y',y0)\n",
    "    while t<=stop:\n",
    "        k1=h*f(t,y)\n",
    "        k2=h*f(t+h/2,y+k1/2)\n",
    "        k3=h*f(t+h/2,y+k2/2)\n",
    "        k4=h*f(t+h,y+k3)\n",
    "        y=y+(k1+2*k2+2*k3+k4)/6\n",
    "        t=t+h\n",
    "        print('k1',k1)\n",
    "        print('k2',k2)\n",
    "        print('k3',k3)\n",
    "        print('k4',k3)\n",
    "        print('t',t,'y',y)\n",
    "        "
   ]
  },
  {
   "cell_type": "code",
   "execution_count": 4,
   "metadata": {},
   "outputs": [],
   "source": [
    "f = lambda t, y: 3*np.exp(-4*t) - 2*y"
   ]
  },
  {
   "cell_type": "code",
   "execution_count": 6,
   "metadata": {},
   "outputs": [
    {
     "name": "stdout",
     "output_type": "stream",
     "text": [
      "t 1 y 1.618\n",
      "k1 -0.318105308333\n",
      "k2 -0.287290796121\n",
      "k3 -0.290372247342\n",
      "k4 -0.290372247342\n",
      "t 1.1 y 1.32878770936\n",
      "k1 -0.262074339902\n",
      "k2 -0.236534557159\n",
      "k3 -0.239088535433\n",
      "k4 -0.239088535433\n",
      "t 1.2000000000000002 y 1.0906558034\n",
      "k1 -0.215662236566\n",
      "k2 -0.194543552924\n",
      "k3 -0.196655421289\n",
      "k4 -0.196655421289\n",
      "t 1.3000000000000003 y 0.894788254722\n"
     ]
    }
   ],
   "source": [
    "newrk4(f, 1.618, 1, 1.3, 0.1)"
   ]
  },
  {
   "cell_type": "code",
   "execution_count": null,
   "metadata": {},
   "outputs": [],
   "source": []
  }
 ],
 "metadata": {
  "kernelspec": {
   "display_name": "Python 3",
   "language": "python",
   "name": "python3"
  },
  "language_info": {
   "codemirror_mode": {
    "name": "ipython",
    "version": 3
   },
   "file_extension": ".py",
   "mimetype": "text/x-python",
   "name": "python",
   "nbconvert_exporter": "python",
   "pygments_lexer": "ipython3",
   "version": "3.6.6"
  }
 },
 "nbformat": 4,
 "nbformat_minor": 2
}
